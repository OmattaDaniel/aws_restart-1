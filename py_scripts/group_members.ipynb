{
 "cells": [
  {
   "cell_type": "code",
   "execution_count": 2,
   "metadata": {},
   "outputs": [
    {
     "data": {
      "text/html": [
       "<div>\n",
       "<style scoped>\n",
       "    .dataframe tbody tr th:only-of-type {\n",
       "        vertical-align: middle;\n",
       "    }\n",
       "\n",
       "    .dataframe tbody tr th {\n",
       "        vertical-align: top;\n",
       "    }\n",
       "\n",
       "    .dataframe thead th {\n",
       "        text-align: right;\n",
       "    }\n",
       "</style>\n",
       "<table border=\"1\" class=\"dataframe\">\n",
       "  <thead>\n",
       "    <tr style=\"text-align: right;\">\n",
       "      <th></th>\n",
       "      <th>SN</th>\n",
       "      <th>Name</th>\n",
       "    </tr>\n",
       "  </thead>\n",
       "  <tbody>\n",
       "    <tr>\n",
       "      <th>0</th>\n",
       "      <td>1</td>\n",
       "      <td>Iretioluwa Nayon-Segla</td>\n",
       "    </tr>\n",
       "    <tr>\n",
       "      <th>1</th>\n",
       "      <td>2</td>\n",
       "      <td>Kingsley Ezeakunne</td>\n",
       "    </tr>\n",
       "    <tr>\n",
       "      <th>2</th>\n",
       "      <td>3</td>\n",
       "      <td>Coker Oladipupo</td>\n",
       "    </tr>\n",
       "    <tr>\n",
       "      <th>3</th>\n",
       "      <td>4</td>\n",
       "      <td>Faith Idemudia</td>\n",
       "    </tr>\n",
       "    <tr>\n",
       "      <th>4</th>\n",
       "      <td>5</td>\n",
       "      <td>Esther Michael</td>\n",
       "    </tr>\n",
       "  </tbody>\n",
       "</table>\n",
       "</div>"
      ],
      "text/plain": [
       "   SN                    Name\n",
       "0   1  Iretioluwa Nayon-Segla\n",
       "1   2      Kingsley Ezeakunne\n",
       "2   3         Coker Oladipupo\n",
       "3   4          Faith Idemudia\n",
       "4   5          Esther Michael"
      ]
     },
     "execution_count": 2,
     "metadata": {},
     "output_type": "execute_result"
    }
   ],
   "source": [
    "import pandas as pd \n",
    "import random\n",
    "\n",
    "df = pd.read_excel('Groups.xlsx')\n",
    "df.head() "
   ]
  },
  {
   "cell_type": "code",
   "execution_count": 45,
   "metadata": {},
   "outputs": [
    {
     "name": "stdout",
     "output_type": "stream",
     "text": [
      "{'Daniel Omatta': 1, 'Samuel Joseph': 1, 'Folashade Ojo': 1, 'Mercy Akinwunmi': 1, 'Olumide Fakokunde': 2, 'Anthony Eze': 2, 'Abisola Apara': 2, 'Obianuju Nnadi': 2, 'Adetoun Adejobi': 3, 'Rotimi Bello': 3, 'Ekene Umegakwe': 3, 'Oyin-Miensine Fufeyin': 3, 'Victoria Ekefre': 4, 'David Ojo': 4, 'Chinedu Nwaozuzu': 4, 'Kingsley Ezeakunne': 4, 'Anthony Okafor': 5, 'Abiodun Allison': 5, 'Iretioluwa Nayon-Segla': 5, 'Olawale Fashola': 5, 'Coker Oladipupo': 6, 'Esther Michael': 6, 'Gbemisola Esho': 6, 'Chidiogo Ezekwem': 6, 'Temitope Oyelami': 7, 'Faith Idemudia': 7, 'Joseph Inwereegbu': 7, 'Oladimeji Solarin': 7}\n"
     ]
    }
   ],
   "source": [
    "names = list(df['Name'].copy().values)\n",
    "random.Random(4).shuffle(names)\n",
    "members = 4\n",
    "final = {} \n",
    "\n",
    "for i in range((len(names) // members) + 1):\n",
    "    group = names[i*members:(i*members + members)]\n",
    "    for item in group: \n",
    "        final[item] = i + 1\n",
    "print(final)"
   ]
  },
  {
   "cell_type": "code",
   "execution_count": 29,
   "metadata": {},
   "outputs": [
    {
     "data": {
      "text/html": [
       "<div>\n",
       "<style scoped>\n",
       "    .dataframe tbody tr th:only-of-type {\n",
       "        vertical-align: middle;\n",
       "    }\n",
       "\n",
       "    .dataframe tbody tr th {\n",
       "        vertical-align: top;\n",
       "    }\n",
       "\n",
       "    .dataframe thead th {\n",
       "        text-align: right;\n",
       "    }\n",
       "</style>\n",
       "<table border=\"1\" class=\"dataframe\">\n",
       "  <thead>\n",
       "    <tr style=\"text-align: right;\">\n",
       "      <th></th>\n",
       "      <th>SN</th>\n",
       "      <th>Name</th>\n",
       "      <th>Group</th>\n",
       "    </tr>\n",
       "  </thead>\n",
       "  <tbody>\n",
       "    <tr>\n",
       "      <th>0</th>\n",
       "      <td>1</td>\n",
       "      <td>Iretioluwa Nayon-Segla</td>\n",
       "      <td>5</td>\n",
       "    </tr>\n",
       "    <tr>\n",
       "      <th>1</th>\n",
       "      <td>2</td>\n",
       "      <td>Kingsley Ezeakunne</td>\n",
       "      <td>4</td>\n",
       "    </tr>\n",
       "    <tr>\n",
       "      <th>2</th>\n",
       "      <td>3</td>\n",
       "      <td>Coker Oladipupo</td>\n",
       "      <td>6</td>\n",
       "    </tr>\n",
       "    <tr>\n",
       "      <th>3</th>\n",
       "      <td>4</td>\n",
       "      <td>Faith Idemudia</td>\n",
       "      <td>7</td>\n",
       "    </tr>\n",
       "    <tr>\n",
       "      <th>4</th>\n",
       "      <td>5</td>\n",
       "      <td>Esther Michael</td>\n",
       "      <td>6</td>\n",
       "    </tr>\n",
       "  </tbody>\n",
       "</table>\n",
       "</div>"
      ],
      "text/plain": [
       "   SN                    Name  Group\n",
       "0   1  Iretioluwa Nayon-Segla      5\n",
       "1   2      Kingsley Ezeakunne      4\n",
       "2   3         Coker Oladipupo      6\n",
       "3   4          Faith Idemudia      7\n",
       "4   5          Esther Michael      6"
      ]
     },
     "execution_count": 29,
     "metadata": {},
     "output_type": "execute_result"
    }
   ],
   "source": [
    "df['Group'] = df['Name'].map(final)\n",
    "df.head()"
   ]
  },
  {
   "cell_type": "code",
   "execution_count": 30,
   "metadata": {},
   "outputs": [],
   "source": [
    "df.to_csv('groups_assigned.csv', index=False) "
   ]
  },
  {
   "cell_type": "code",
   "execution_count": null,
   "metadata": {},
   "outputs": [],
   "source": []
  },
  {
   "cell_type": "code",
   "execution_count": 46,
   "metadata": {},
   "outputs": [
    {
     "name": "stdout",
     "output_type": "stream",
     "text": [
      "{1: ['Esther Michael', 'Abiodun Allison', 'Victoria Ekefre', 'Coker Oladipupo', 'Obianuju Nnadi', 'Joseph Inwereegbu'], 2: ['Mercy Akinwunmi', 'Chinedu Nwaozuzu', 'Chidiogo Ezekwem', 'Abisola Apara', 'Anthony Okafor', 'Daniel Omatta'], 3: ['Gbemisola Esho', 'Anthony Eze', 'Ekene Umegakwe', 'Faith Idemudia', 'Oyin-Miensine Fufeyin', 'Kingsley Ezeakunne'], 4: ['Oladimeji Solarin', 'Samuel Joseph', 'Iretioluwa Nayon-Segla', 'Olumide Fakokunde', 'Olawale Fashola', 'Adetoun Adejobi'], 5: ['Folashade Ojo', 'Temitope Oyelami', 'David Ojo', 'Rotimi Bello']}\n"
     ]
    }
   ],
   "source": [
    "names = list(df['Name'].copy().values)\n",
    "random.Random(5).shuffle(names)\n",
    "members = 6\n",
    "final = {} \n",
    "\n",
    "for i in range(len(names) // members + 1):\n",
    "    group = names[i*members:(i*members + members)]\n",
    "    final[i + 1] = group \n",
    "print(final) "
   ]
  },
  {
   "cell_type": "code",
   "execution_count": 43,
   "metadata": {},
   "outputs": [
    {
     "data": {
      "text/plain": [
       "5"
      ]
     },
     "execution_count": 43,
     "metadata": {},
     "output_type": "execute_result"
    }
   ],
   "source": [
    "(len(names) // 6) + 1"
   ]
  }
 ],
 "metadata": {
  "interpreter": {
   "hash": "ee89bb07d3fa5f9c0a8bd127b3056783b076f56308f3ae1a55a1b4c1c97796ac"
  },
  "kernelspec": {
   "display_name": "Python 3.8.8 64-bit ('base': conda)",
   "name": "python3"
  },
  "language_info": {
   "codemirror_mode": {
    "name": "ipython",
    "version": 3
   },
   "file_extension": ".py",
   "mimetype": "text/x-python",
   "name": "python",
   "nbconvert_exporter": "python",
   "pygments_lexer": "ipython3",
   "version": "3.8.8"
  },
  "orig_nbformat": 4
 },
 "nbformat": 4,
 "nbformat_minor": 2
}
